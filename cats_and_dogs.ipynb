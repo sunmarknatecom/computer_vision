{
 "cells": [
  {
   "cell_type": "markdown",
   "metadata": {},
   "source": [
    "# 고양이와 강아지 맞추기"
   ]
  },
  {
   "cell_type": "markdown",
   "metadata": {},
   "source": [
    "## 1. 파일 불러오기"
   ]
  },
  {
   "cell_type": "code",
   "execution_count": 1,
   "metadata": {},
   "outputs": [],
   "source": [
    "import os, shutil\n",
    "\n",
    "original_dataset_dir = './datasets/cats_and_dogs/train'\n",
    "base_dir = './datasets/cats_and_dogs_small'\n",
    "os.mkdir(base_dir)\n",
    "\n",
    "train_dir = os.path.join(base_dir, 'train')\n",
    "os.mkdir(train_dir)\n",
    "\n",
    "validation_dir = os.path.join(base_dir, 'validation')\n",
    "os.mkdir(validation_dir)\n",
    "\n",
    "test_dir = os.path.join(base_dir, 'test')\n",
    "os.mkdir(test_dir)\n",
    "\n",
    "train_cats_dir = os.path.join(train_dir, 'cats')\n",
    "os.mkdir(train_cats_dir)\n",
    "\n",
    "train_dogs_dir = os.path.join(train_dir, 'dogs')\n",
    "os.mkdir(train_dogs_dir)\n",
    "\n",
    "validation_cats_dir = os.path.join(validation_dir, 'cats')\n",
    "os.mkdir(validation_cats_dir)\n",
    "\n",
    "validation_dogs_dir = os.path.join(validation_dir, 'dogs')\n",
    "os.mkdir(validation_dogs_dir)\n",
    "\n",
    "test_cats_dir = os.path.join(test_dir, 'cats')\n",
    "os.mkdir(test_cats_dir)\n",
    "\n",
    "test_dogs_dir = os.path.join(test_dir, 'dogs')\n",
    "os.mkdir(test_dogs_dir)"
   ]
  },
  {
   "cell_type": "code",
   "execution_count": 2,
   "metadata": {},
   "outputs": [],
   "source": [
    "fnames_train = ['cat.{}.jpg'.format(i) for i in range(1000)]\n",
    "for fname_train in fnames_train:\n",
    "    src = os.path.join(original_dataset_dir, fname_train)\n",
    "    dst = os.path.join(train_cats_dir, fname_train)\n",
    "    shutil.copyfile(src, dst)"
   ]
  },
  {
   "cell_type": "code",
   "execution_count": 3,
   "metadata": {},
   "outputs": [],
   "source": [
    "fnames_val = ['cat.{}.jpg'.format(i) for i in range(1000,1500)]\n",
    "for fname_val in fnames_val:\n",
    "    src = os.path.join(original_dataset_dir, fname_val)\n",
    "    dst = os.path.join(validation_cats_dir, fname_val)\n",
    "    shutil.copyfile(src, dst)"
   ]
  },
  {
   "cell_type": "code",
   "execution_count": 4,
   "metadata": {},
   "outputs": [],
   "source": [
    "fnames_test = ['cat.{}.jpg'.format(i) for i in range(1500,2000)]\n",
    "for fname_test in fnames_test:\n",
    "    src = os.path.join(original_dataset_dir, fname_test)\n",
    "    dst = os.path.join(test_cats_dir, fname_test)\n",
    "    shutil.copyfile(src, dst)"
   ]
  },
  {
   "cell_type": "code",
   "execution_count": 5,
   "metadata": {},
   "outputs": [],
   "source": [
    "fnames_train = ['dog.{}.jpg'.format(i) for i in range(1000)]\n",
    "for fname_train in fnames_train:\n",
    "    src = os.path.join(original_dataset_dir, fname_train)\n",
    "    dst = os.path.join(train_dogs_dir, fname_train)\n",
    "    shutil.copyfile(src, dst)"
   ]
  },
  {
   "cell_type": "code",
   "execution_count": 6,
   "metadata": {},
   "outputs": [],
   "source": [
    "fnames_val = ['dog.{}.jpg'.format(i) for i in range(1000,1500)]\n",
    "for fname_val in fnames_val:\n",
    "    src = os.path.join(original_dataset_dir, fname_val)\n",
    "    dst = os.path.join(validation_dogs_dir, fname_val)\n",
    "    shutil.copyfile(src, dst)"
   ]
  },
  {
   "cell_type": "code",
   "execution_count": 7,
   "metadata": {},
   "outputs": [],
   "source": [
    "fnames_test = ['dog.{}.jpg'.format(i) for i in range(1500,2000)]\n",
    "for fname_test in fnames_test:\n",
    "    src = os.path.join(original_dataset_dir, fname_test)\n",
    "    dst = os.path.join(test_dogs_dir, fname_test)\n",
    "    shutil.copyfile(src, dst)"
   ]
  },
  {
   "cell_type": "code",
   "execution_count": 8,
   "metadata": {},
   "outputs": [
    {
     "name": "stdout",
     "output_type": "stream",
     "text": [
      "훈련용 고양이 이미지 전체 개수:  1000\n",
      "훈련용 강아지 이미지 전체 개수:  1000\n",
      "검증용 고양이 이미지 전체 개수:  500\n",
      "검증용 강아지 이미지 전체 개수:  500\n",
      "테스트용 고양이 이미지 전체 개수:  500\n",
      "테스트용 강아지 이미지 전체 개수:  500\n"
     ]
    }
   ],
   "source": [
    "print(\"훈련용 고양이 이미지 전체 개수: \", len(os.listdir(train_cats_dir)))\n",
    "print(\"훈련용 강아지 이미지 전체 개수: \", len(os.listdir(train_dogs_dir)))\n",
    "print(\"검증용 고양이 이미지 전체 개수: \", len(os.listdir(validation_cats_dir)))\n",
    "print(\"검증용 강아지 이미지 전체 개수: \", len(os.listdir(validation_dogs_dir)))\n",
    "print(\"테스트용 고양이 이미지 전체 개수: \", len(os.listdir(test_cats_dir)))\n",
    "print(\"테스트용 강아지 이미지 전체 개수: \", len(os.listdir(test_dogs_dir)))"
   ]
  },
  {
   "cell_type": "code",
   "execution_count": 9,
   "metadata": {},
   "outputs": [],
   "source": [
    "from tensorflow.keras.layers import Conv2D, MaxPooling2D, Flatten, Dense\n",
    "from tensorflow.keras.models import Sequential"
   ]
  },
  {
   "cell_type": "code",
   "execution_count": 10,
   "metadata": {},
   "outputs": [],
   "source": [
    "model = Sequential()\n",
    "model.add(Conv2D(32, (3, 3), activation='relu', input_shape=(150, 150, 3)))\n",
    "model.add(MaxPooling2D((2, 2)))\n",
    "model.add(Conv2D(64, (3, 3), activation='relu'))\n",
    "model.add(MaxPooling2D((2, 2)))\n",
    "model.add(Conv2D(128, (3, 3), activation='relu'))\n",
    "model.add(MaxPooling2D((2, 2)))\n",
    "model.add(Conv2D(128, (3, 3), activation='relu'))\n",
    "model.add(MaxPooling2D((2, 2)))\n",
    "model.add(Flatten())\n",
    "model.add(Dense(512, activation='relu'))\n",
    "model.add(Dense(1, activation='sigmoid'))"
   ]
  },
  {
   "cell_type": "code",
   "execution_count": 11,
   "metadata": {},
   "outputs": [
    {
     "name": "stdout",
     "output_type": "stream",
     "text": [
      "Model: \"sequential\"\n",
      "_________________________________________________________________\n",
      "Layer (type)                 Output Shape              Param #   \n",
      "=================================================================\n",
      "conv2d (Conv2D)              (None, 148, 148, 32)      896       \n",
      "_________________________________________________________________\n",
      "max_pooling2d (MaxPooling2D) (None, 74, 74, 32)        0         \n",
      "_________________________________________________________________\n",
      "conv2d_1 (Conv2D)            (None, 72, 72, 64)        18496     \n",
      "_________________________________________________________________\n",
      "max_pooling2d_1 (MaxPooling2 (None, 36, 36, 64)        0         \n",
      "_________________________________________________________________\n",
      "conv2d_2 (Conv2D)            (None, 34, 34, 128)       73856     \n",
      "_________________________________________________________________\n",
      "max_pooling2d_2 (MaxPooling2 (None, 17, 17, 128)       0         \n",
      "_________________________________________________________________\n",
      "conv2d_3 (Conv2D)            (None, 15, 15, 128)       147584    \n",
      "_________________________________________________________________\n",
      "max_pooling2d_3 (MaxPooling2 (None, 7, 7, 128)         0         \n",
      "_________________________________________________________________\n",
      "flatten (Flatten)            (None, 6272)              0         \n",
      "_________________________________________________________________\n",
      "dense (Dense)                (None, 512)               3211776   \n",
      "_________________________________________________________________\n",
      "dense_1 (Dense)              (None, 1)                 513       \n",
      "=================================================================\n",
      "Total params: 3,453,121\n",
      "Trainable params: 3,453,121\n",
      "Non-trainable params: 0\n",
      "_________________________________________________________________\n"
     ]
    }
   ],
   "source": [
    "model.summary()"
   ]
  },
  {
   "cell_type": "code",
   "execution_count": 12,
   "metadata": {},
   "outputs": [],
   "source": [
    "from tensorflow.keras.optimizers import RMSprop\n",
    "\n",
    "model.compile(loss='binary_crossentropy', optimizer=RMSprop(lr=1e-4), metrics=['accuracy'])"
   ]
  },
  {
   "cell_type": "code",
   "execution_count": 13,
   "metadata": {},
   "outputs": [
    {
     "name": "stdout",
     "output_type": "stream",
     "text": [
      "Found 2000 images belonging to 2 classes.\n",
      "Found 1000 images belonging to 2 classes.\n"
     ]
    }
   ],
   "source": [
    "from tensorflow.keras.preprocessing.image import ImageDataGenerator\n",
    "\n",
    "train_datagen = ImageDataGenerator(rescale=1./255)\n",
    "test_datagen = ImageDataGenerator(rescale=1./255)\n",
    "\n",
    "train_generator = train_datagen.flow_from_directory(train_dir, target_size=(150,150), batch_size=20, class_mode='binary')\n",
    "validation_generator = test_datagen.flow_from_directory(validation_dir, target_size=(150, 150), batch_size=20, class_mode='binary')"
   ]
  },
  {
   "cell_type": "code",
   "execution_count": 15,
   "metadata": {},
   "outputs": [
    {
     "name": "stdout",
     "output_type": "stream",
     "text": [
      "배치 데이터 크기: (20, 150, 150, 3)\n",
      "배치 레이블 크기: (20,)\n"
     ]
    }
   ],
   "source": [
    "for data_batch, label_batch in train_generator:\n",
    "    print('배치 데이터 크기:', data_batch.shape)\n",
    "    print('배치 레이블 크기:', label_batch.shape)\n",
    "    break\n"
   ]
  },
  {
   "cell_type": "code",
   "execution_count": 16,
   "metadata": {
    "scrolled": true
   },
   "outputs": [
    {
     "name": "stdout",
     "output_type": "stream",
     "text": [
      "WARNING:tensorflow:From <ipython-input-16-43a82226ca35>:1: Model.fit_generator (from tensorflow.python.keras.engine.training) is deprecated and will be removed in a future version.\n",
      "Instructions for updating:\n",
      "Please use Model.fit, which supports generators.\n",
      "WARNING:tensorflow:sample_weight modes were coerced from\n",
      "  ...\n",
      "    to  \n",
      "  ['...']\n",
      "WARNING:tensorflow:sample_weight modes were coerced from\n",
      "  ...\n",
      "    to  \n",
      "  ['...']\n",
      "Train for 100 steps, validate for 50 steps\n",
      "Epoch 1/30\n",
      "100/100 [==============================] - 117s 1s/step - loss: 0.6887 - accuracy: 0.5295 - val_loss: 0.6722 - val_accuracy: 0.6280\n",
      "Epoch 2/30\n",
      "100/100 [==============================] - 112s 1s/step - loss: 0.6517 - accuracy: 0.6305 - val_loss: 0.6413 - val_accuracy: 0.6290\n",
      "Epoch 3/30\n",
      "100/100 [==============================] - 113s 1s/step - loss: 0.6067 - accuracy: 0.6815 - val_loss: 0.6457 - val_accuracy: 0.6080\n",
      "Epoch 4/30\n",
      "100/100 [==============================] - 116s 1s/step - loss: 0.5716 - accuracy: 0.6960 - val_loss: 0.5865 - val_accuracy: 0.6740\n",
      "Epoch 5/30\n",
      "100/100 [==============================] - 112s 1s/step - loss: 0.5338 - accuracy: 0.7360 - val_loss: 0.5664 - val_accuracy: 0.6970\n",
      "Epoch 6/30\n",
      "100/100 [==============================] - 117s 1s/step - loss: 0.4960 - accuracy: 0.7580 - val_loss: 0.6613 - val_accuracy: 0.6540\n",
      "Epoch 7/30\n",
      "100/100 [==============================] - 119s 1s/step - loss: 0.4704 - accuracy: 0.7745 - val_loss: 0.5971 - val_accuracy: 0.6860\n",
      "Epoch 8/30\n",
      "100/100 [==============================] - 118s 1s/step - loss: 0.4446 - accuracy: 0.7905 - val_loss: 0.5316 - val_accuracy: 0.7230\n",
      "Epoch 9/30\n",
      "100/100 [==============================] - 114s 1s/step - loss: 0.4141 - accuracy: 0.8050 - val_loss: 0.5747 - val_accuracy: 0.7060\n",
      "Epoch 10/30\n",
      "100/100 [==============================] - 112s 1s/step - loss: 0.3868 - accuracy: 0.8250 - val_loss: 0.5485 - val_accuracy: 0.7240\n",
      "Epoch 11/30\n",
      "100/100 [==============================] - 112s 1s/step - loss: 0.3654 - accuracy: 0.8315 - val_loss: 0.5289 - val_accuracy: 0.7400\n",
      "Epoch 12/30\n",
      "100/100 [==============================] - 115s 1s/step - loss: 0.3336 - accuracy: 0.8650 - val_loss: 0.5318 - val_accuracy: 0.7380\n",
      "Epoch 13/30\n",
      "100/100 [==============================] - 115s 1s/step - loss: 0.3141 - accuracy: 0.8725 - val_loss: 0.5261 - val_accuracy: 0.7540\n",
      "Epoch 14/30\n",
      "100/100 [==============================] - 114s 1s/step - loss: 0.2847 - accuracy: 0.8790 - val_loss: 0.5812 - val_accuracy: 0.7340\n",
      "Epoch 15/30\n",
      "100/100 [==============================] - 113s 1s/step - loss: 0.2694 - accuracy: 0.8895 - val_loss: 0.6068 - val_accuracy: 0.7470\n",
      "Epoch 16/30\n",
      "100/100 [==============================] - 113s 1s/step - loss: 0.2436 - accuracy: 0.9055 - val_loss: 0.5661 - val_accuracy: 0.7540\n",
      "Epoch 17/30\n",
      "100/100 [==============================] - 113s 1s/step - loss: 0.2239 - accuracy: 0.9145 - val_loss: 0.6133 - val_accuracy: 0.7410\n",
      "Epoch 18/30\n",
      "100/100 [==============================] - 112s 1s/step - loss: 0.2047 - accuracy: 0.9160 - val_loss: 0.5975 - val_accuracy: 0.7470\n",
      "Epoch 19/30\n",
      "100/100 [==============================] - 113s 1s/step - loss: 0.1908 - accuracy: 0.9265 - val_loss: 0.6363 - val_accuracy: 0.7300\n",
      "Epoch 20/30\n",
      "100/100 [==============================] - 112s 1s/step - loss: 0.1731 - accuracy: 0.9380 - val_loss: 0.6114 - val_accuracy: 0.7570\n",
      "Epoch 21/30\n",
      "100/100 [==============================] - 112s 1s/step - loss: 0.1522 - accuracy: 0.9510 - val_loss: 0.6668 - val_accuracy: 0.7340\n",
      "Epoch 22/30\n",
      "100/100 [==============================] - 113s 1s/step - loss: 0.1363 - accuracy: 0.9520 - val_loss: 0.6923 - val_accuracy: 0.7370\n",
      "Epoch 23/30\n",
      "100/100 [==============================] - 115s 1s/step - loss: 0.1197 - accuracy: 0.9640 - val_loss: 0.7358 - val_accuracy: 0.7480\n",
      "Epoch 24/30\n",
      "100/100 [==============================] - 113s 1s/step - loss: 0.1092 - accuracy: 0.9685 - val_loss: 0.7329 - val_accuracy: 0.7430\n",
      "Epoch 25/30\n",
      "100/100 [==============================] - 112s 1s/step - loss: 0.0849 - accuracy: 0.9765 - val_loss: 0.8491 - val_accuracy: 0.7340\n",
      "Epoch 26/30\n",
      "100/100 [==============================] - 112s 1s/step - loss: 0.0816 - accuracy: 0.9740 - val_loss: 0.7527 - val_accuracy: 0.7520\n",
      "Epoch 27/30\n",
      "100/100 [==============================] - 113s 1s/step - loss: 0.0697 - accuracy: 0.9815 - val_loss: 0.7824 - val_accuracy: 0.7550\n",
      "Epoch 28/30\n",
      "100/100 [==============================] - 117s 1s/step - loss: 0.0561 - accuracy: 0.9860 - val_loss: 0.8812 - val_accuracy: 0.7400\n",
      "Epoch 29/30\n",
      "100/100 [==============================] - 119s 1s/step - loss: 0.0492 - accuracy: 0.9905 - val_loss: 0.8795 - val_accuracy: 0.7570\n",
      "Epoch 30/30\n",
      "100/100 [==============================] - 116s 1s/step - loss: 0.0409 - accuracy: 0.9915 - val_loss: 1.0116 - val_accuracy: 0.7350\n"
     ]
    }
   ],
   "source": [
    "history = model.fit_generator(train_generator, steps_per_epoch=100, epochs=30, validation_data=validation_generator, validation_steps=50)"
   ]
  },
  {
   "cell_type": "code",
   "execution_count": 17,
   "metadata": {},
   "outputs": [],
   "source": [
    "model.save('cats_and_dogs_small_1.h5')"
   ]
  },
  {
   "cell_type": "code",
   "execution_count": 20,
   "metadata": {},
   "outputs": [
    {
     "data": {
      "image/png": "[encoded data removed]",
      "text/plain": [
       "<Figure size 432x288 with 1 Axes>"
      ]
     },
     "metadata": {
      "needs_background": "light"
     },
     "output_type": "display_data"
    },
    {
     "data": {
      "image/png": "[encoded data removed]",
      "text/plain": [
       "<Figure size 432x288 with 1 Axes>"
      ]
     },
     "metadata": {
      "needs_background": "light"
     },
     "output_type": "display_data"
    }
   ],
   "source": [
    "import matplotlib.pyplot as plt\n",
    "\n",
    "acc = history.history['accuracy']\n",
    "val_acc = history.history['val_accuracy']\n",
    "loss = history.history['loss']\n",
    "val_loss = history.history['val_loss']\n",
    "\n",
    "epochs = range(1, len(acc) + 1)\n",
    "\n",
    "plt.plot(epochs, acc, 'bo', label='Training acc')\n",
    "plt.plot(epochs, val_acc, 'b', label='Validation acc')\n",
    "plt.title('Training and validation accuracy')\n",
    "plt.legend()\n",
    "\n",
    "plt.figure()\n",
    "\n",
    "plt.plot(epochs, loss, 'bo', label='Training loss')\n",
    "plt.plot(epochs, val_loss, 'b', label='Validation loss')\n",
    "plt.title('Training and validation loss')\n",
    "plt.legend()\n",
    "\n",
    "plt.show()"
   ]
  },
  {
   "cell_type": "code",
   "execution_count": null,
   "metadata": {},
   "outputs": [],
   "source": []
  },
  {
   "cell_type": "code",
   "execution_count": null,
   "metadata": {},
   "outputs": [],
   "source": []
  },
  {
   "cell_type": "code",
   "execution_count": null,
   "metadata": {},
   "outputs": [],
   "source": []
  }
 ],
 "metadata": {
  "kernelspec": {
   "display_name": "Python 3",
   "language": "python",
   "name": "python3"
  },
  "language_info": {
   "codemirror_mode": {
    "name": "ipython",
    "version": 3
   },
   "file_extension": ".py",
   "mimetype": "text/x-python",
   "name": "python",
   "nbconvert_exporter": "python",
   "pygments_lexer": "ipython3",
   "version": "3.7.2"
  }
 },
 "nbformat": 4,
 "nbformat_minor": 4
}
