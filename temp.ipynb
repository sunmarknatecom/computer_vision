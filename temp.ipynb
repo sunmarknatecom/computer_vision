{
  "cells": [
    {
      "cell_type": "markdown",
      "metadata": {
        "id": "view-in-github",
        "colab_type": "text"
      },
      "source": [
        "<a href=\"https://colab.research.google.com/github/sunmarknatecom/computer_vision/blob/master/temp.ipynb\" target=\"_parent\"><img src=\"https://colab.research.google.com/assets/colab-badge.svg\" alt=\"Open In Colab\"/></a>"
      ]
    },
    {
      "cell_type": "code",
      "execution_count": null,
      "metadata": {
        "colab": {
          "base_uri": "https://localhost:8080/"
        },
        "id": "90e_vZFLvfSG",
        "outputId": "473c9f1c-25fb-4177-af2d-545a0c370994"
      },
      "outputs": [
        {
          "name": "stdout",
          "output_type": "stream",
          "text": [
            "Drive already mounted at /content/drive; to attempt to forcibly remount, call drive.mount(\"/content/drive\", force_remount=True).\n"
          ]
        }
      ],
      "source": [
        "from google.colab import drive\n",
        "drive.mount('/content/drive')"
      ]
    },
    {
      "cell_type": "markdown",
      "metadata": {
        "id": "F7eOVkl0RwQL"
      },
      "source": [
        "## 폴더 삭제"
      ]
    },
    {
      "cell_type": "code",
      "execution_count": null,
      "metadata": {
        "id": "ObTofr_ZRv1j"
      },
      "outputs": [],
      "source": [
        "# import shutil, os\n",
        "\n",
        "# dir_path = '/content/drive/MyDrive/segmentation/data/seg_002'\n",
        "# shutil.rmtree(dir_path)"
      ]
    },
    {
      "cell_type": "markdown",
      "metadata": {
        "id": "edWihglYAqYK"
      },
      "source": [
        "# 파일 폴더 압축"
      ]
    },
    {
      "cell_type": "code",
      "execution_count": null,
      "metadata": {
        "colab": {
          "base_uri": "https://localhost:8080/",
          "height": 35
        },
        "id": "AWTVmKQrAmMa",
        "outputId": "1396c590-b98d-4ccf-ce4f-385b50b185b8"
      },
      "outputs": [
        {
          "data": {
            "application/vnd.google.colaboratory.intrinsic+json": {
              "type": "string"
            },
            "text/plain": [
              "'/content/seg_006.zip'"
            ]
          },
          "execution_count": 5,
          "metadata": {},
          "output_type": "execute_result"
        }
      ],
      "source": [
        "import shutil\n",
        "\n",
        "path = '/content/drive/MyDrive/segmentation/data/'\n",
        "idx = 'seg_006'\n",
        "\n",
        "shutil.make_archive(idx, 'zip', path+idx)"
      ]
    },
    {
      "cell_type": "markdown",
      "metadata": {
        "id": "P-3LY5up4SiO"
      },
      "source": [
        "# 압축파일 해제\n",
        "\n",
        "1.   path 확정\n",
        "2.   압축 파일 이름 확정"
      ]
    },
    {
      "cell_type": "code",
      "execution_count": null,
      "metadata": {
        "id": "Y240ZGdq4qBm"
      },
      "outputs": [],
      "source": [
        "path = '/content/drive/MyDrive/segmentation/data/seg_002/mask/'"
      ]
    },
    {
      "cell_type": "code",
      "execution_count": 2,
      "metadata": {
        "id": "ZwjeWc2rvrHH"
      },
      "outputs": [],
      "source": [
        "import os, zipfile\n",
        "\n",
        "mask_zip = zipfile.ZipFile('/content/drive/MyDrive/segmentation/zip/zip.zip')\n",
        "mask_zip.extractall('/content/drive/MyDrive/segmentation/zip/')\n",
        "mask_zip.close()"
      ]
    },
    {
      "cell_type": "code",
      "execution_count": null,
      "metadata": {
        "colab": {
          "base_uri": "https://localhost:8080/"
        },
        "id": "CBhVZVwfwusV",
        "outputId": "72eb8550-41ff-491e-a215-96877a1bca91"
      },
      "outputs": [
        {
          "name": "stdout",
          "output_type": "stream",
          "text": [
            "356\n"
          ]
        }
      ],
      "source": [
        "print(len(os.listdir(path)))"
      ]
    },
    {
      "cell_type": "code",
      "execution_count": null,
      "metadata": {
        "id": "taC0eHhUACPX"
      },
      "outputs": [],
      "source": [
        "import os"
      ]
    },
    {
      "cell_type": "markdown",
      "metadata": {
        "id": "y_BCfuxI8yEG"
      },
      "source": [
        "# DICOM 파일이름 정리\n",
        "\n",
        "1. path 확정 (root, idx, group)\n",
        "2. "
      ]
    },
    {
      "cell_type": "code",
      "execution_count": null,
      "metadata": {
        "id": "Q9GZkZoZ9sDf"
      },
      "outputs": [],
      "source": [
        "root = '/content/drive/MyDrive/segmentation/data/'\n",
        "idx = 'seg_006/'"
      ]
    },
    {
      "cell_type": "code",
      "execution_count": null,
      "metadata": {
        "id": "SWqpELcy7FSO"
      },
      "outputs": [],
      "source": [
        "root = '/content/drive/MyDrive/segmentation/data/'\n",
        "idx = 'seg_006/'\n",
        "group = 'dicom/'\n",
        "\n",
        "path = root + idx + group\n",
        "\n",
        "f_list = os.listdir(path)\n",
        "\n",
        "for elem in f_list:\n",
        "    old_name = path + elem\n",
        "    new_name = path + idx[:-1] + '_dcm_' + elem[-7:]\n",
        "    os.rename(old_name, new_name)"
      ]
    },
    {
      "cell_type": "markdown",
      "metadata": {
        "id": "fzVDObwN81wo"
      },
      "source": [
        "# IMAGE 파일 이름 정리"
      ]
    },
    {
      "cell_type": "code",
      "execution_count": null,
      "metadata": {
        "id": "tu7l8pB87FKW"
      },
      "outputs": [],
      "source": [
        "root = '/content/drive/MyDrive/segmentation/data/'\n",
        "idx = 'seg_006/'\n",
        "group = 'image/'\n",
        "\n",
        "path = root + idx + group\n",
        "\n",
        "f_list = os.listdir(path)\n",
        "\n",
        "for elem in f_list:\n",
        "    old_name = path + elem\n",
        "    new_name = path + idx[:-1] + '_img_' + elem[2:5] + '.jpg'\n",
        "    os.rename(old_name, new_name)"
      ]
    },
    {
      "cell_type": "markdown",
      "metadata": {
        "id": "zVHlLPn785av"
      },
      "source": [
        "# MASK 파일 이름 정리"
      ]
    },
    {
      "cell_type": "code",
      "execution_count": null,
      "metadata": {
        "id": "fmzFQl8687n4"
      },
      "outputs": [],
      "source": [
        "root = '/content/drive/MyDrive/segmentation/data/'\n",
        "idx = 'seg_006/'\n",
        "group = 'mask/'\n",
        "\n",
        "path = root + idx + group\n",
        "\n",
        "f_list = os.listdir(path)\n",
        "\n",
        "for elem in f_list:\n",
        "    old_name = path + elem\n",
        "    new_name = path + idx[:-1] + '_msk_' + elem[2:5] + '.png'\n",
        "    os.rename(old_name, new_name)"
      ]
    },
    {
      "cell_type": "markdown",
      "metadata": {
        "id": "uwUnpa4M89W-"
      },
      "source": [
        "# PREDICTION 파일 이름 정리"
      ]
    },
    {
      "cell_type": "code",
      "execution_count": null,
      "metadata": {
        "id": "KeCxhgQE8_64"
      },
      "outputs": [],
      "source": [
        "root = '/content/drive/MyDrive/segmentation/data/'\n",
        "idx = 'seg_006/'\n",
        "group = 'prediction/'\n",
        "\n",
        "path = root + idx + group\n",
        "\n",
        "f_list = os.listdir(path)\n",
        "\n",
        "for elem in f_list:\n",
        "    old_name = path + elem\n",
        "    new_name = path + idx[:-1] + '_prd_' + elem[2:5] + '.png'\n",
        "    os.rename(old_name, new_name)"
      ]
    },
    {
      "cell_type": "code",
      "execution_count": 4,
      "metadata": {
        "id": "bIyXGWk4A1Cc",
        "colab": {
          "base_uri": "https://localhost:8080/"
        },
        "outputId": "92675f90-39e0-425d-b909-637228a26c75"
      },
      "outputs": [
        {
          "output_type": "stream",
          "name": "stdout",
          "text": [
            "Collecting pynrrd\n",
            "  Downloading pynrrd-0.4.2-py2.py3-none-any.whl (18 kB)\n",
            "Requirement already satisfied: numpy>=1.11.1 in /usr/local/lib/python3.7/dist-packages (from pynrrd) (1.21.5)\n",
            "Installing collected packages: pynrrd\n",
            "Successfully installed pynrrd-0.4.2\n"
          ]
        }
      ],
      "source": [
        "!pip install pynrrd"
      ]
    },
    {
      "cell_type": "markdown",
      "metadata": {
        "id": "AWfJ4pnFB6I7"
      },
      "source": [
        "## NRRD to PNG"
      ]
    },
    {
      "cell_type": "code",
      "source": [
        "import nrrd, os\n",
        "import numpy as np\n",
        "from PIL import Image"
      ],
      "metadata": {
        "id": "lrRnknUN8U9V"
      },
      "execution_count": 5,
      "outputs": []
    },
    {
      "cell_type": "code",
      "execution_count": 29,
      "metadata": {
        "id": "ovCJYuEFB5bD"
      },
      "outputs": [],
      "source": [
        "path = \"/content/drive/MyDrive/segmentation/data/seg_016/seg_016_2\"\n",
        "filename = '/seg_016_2_did.nrrd'\n",
        "\n",
        "os.mkdir(path+'/mask/')\n",
        "\n",
        "data, header = nrrd.read(path+\"/mask_slicer\"+filename, index_order='C')\n",
        "data[data==0] = 1\n",
        "\n",
        "length = len(data)\n",
        "\n",
        "for i in range(length):\n",
        "    tmp_path = path \n",
        "    tmp_file_name = filename[:-8]+'msk_%03d.png'%(i+1)\n",
        "    data_obj = data[-(i+1)]\n",
        "    in_obj = Image.fromarray(data_obj)\n",
        "    in_obj.save(tmp_path+\"/mask\"+tmp_file_name)"
      ]
    },
    {
      "cell_type": "code",
      "execution_count": null,
      "metadata": {
        "id": "D27sZ-VCsYTM"
      },
      "outputs": [],
      "source": [
        "from glob import glob\n",
        "import os\n",
        "file_list = sorted(glob('*.png'))\n",
        "for elem in file_list:\n",
        "    new_name = 'seg_016_2_msk_'+elem[-7:]\n",
        "    os.rename(elem, new_name)"
      ]
    },
    {
      "cell_type": "code",
      "execution_count": null,
      "metadata": {
        "colab": {
          "background_save": true
        },
        "id": "J88RNWsoQtdJ"
      },
      "outputs": [],
      "source": [
        "path = '/content/drive/MyDrive/segmentation/data/'\n",
        "\n",
        "import os, zipfile\n",
        "\n",
        "for i in range(3,17):\n",
        "    name = 'seg_0%02d'%i\n",
        "    mask_zip = zipfile.ZipFile(path+name+'.zip')\n",
        "    mask_zip.extractall(path+name)\n",
        "    mask_zip.close()"
      ]
    },
    {
      "cell_type": "code",
      "execution_count": null,
      "metadata": {
        "id": "9OMci0TNRX3x"
      },
      "outputs": [],
      "source": [
        "path = '/content/drive/MyDrive/segmentation/data/seg_016/seg_016_2/mask_test/'\n",
        "\n",
        "from glob import glob\n",
        "\n",
        "file_list = sorted(glob(path+'*.png'))"
      ]
    },
    {
      "cell_type": "code",
      "source": [
        "file_list[:10]"
      ],
      "metadata": {
        "colab": {
          "base_uri": "https://localhost:8080/"
        },
        "id": "R3aaOCmUdLc2",
        "outputId": "b1f88c81-5566-4a0d-e588-7cad45265ee1"
      },
      "execution_count": null,
      "outputs": [
        {
          "output_type": "execute_result",
          "data": {
            "text/plain": [
              "['/content/drive/MyDrive/segmentation/data/seg_016/seg_016_2/mask_test/seg_016_2_msk_001.png',\n",
              " '/content/drive/MyDrive/segmentation/data/seg_016/seg_016_2/mask_test/seg_016_2_msk_002.png',\n",
              " '/content/drive/MyDrive/segmentation/data/seg_016/seg_016_2/mask_test/seg_016_2_msk_003.png',\n",
              " '/content/drive/MyDrive/segmentation/data/seg_016/seg_016_2/mask_test/seg_016_2_msk_004.png',\n",
              " '/content/drive/MyDrive/segmentation/data/seg_016/seg_016_2/mask_test/seg_016_2_msk_005.png',\n",
              " '/content/drive/MyDrive/segmentation/data/seg_016/seg_016_2/mask_test/seg_016_2_msk_006.png',\n",
              " '/content/drive/MyDrive/segmentation/data/seg_016/seg_016_2/mask_test/seg_016_2_msk_007.png',\n",
              " '/content/drive/MyDrive/segmentation/data/seg_016/seg_016_2/mask_test/seg_016_2_msk_008.png',\n",
              " '/content/drive/MyDrive/segmentation/data/seg_016/seg_016_2/mask_test/seg_016_2_msk_009.png',\n",
              " '/content/drive/MyDrive/segmentation/data/seg_016/seg_016_2/mask_test/seg_016_2_msk_010.png']"
            ]
          },
          "metadata": {},
          "execution_count": 8
        }
      ]
    },
    {
      "cell_type": "code",
      "source": [
        "import os\n",
        "lst_file = []\n",
        "\n",
        "for elem in file_list:\n",
        "    temp_list = os.path.basename(elem)\n",
        "    lst_file.append(temp_list)"
      ],
      "metadata": {
        "id": "WwgGh6SsdM_k"
      },
      "execution_count": null,
      "outputs": []
    },
    {
      "cell_type": "code",
      "source": [
        "lst_file[:10]"
      ],
      "metadata": {
        "colab": {
          "base_uri": "https://localhost:8080/"
        },
        "id": "Ll3y5P7ldRUT",
        "outputId": "44514980-708d-42e5-a894-c9fc219cbda3"
      },
      "execution_count": null,
      "outputs": [
        {
          "output_type": "execute_result",
          "data": {
            "text/plain": [
              "['seg_016_2_msk_001.png',\n",
              " 'seg_016_2_msk_002.png',\n",
              " 'seg_016_2_msk_003.png',\n",
              " 'seg_016_2_msk_004.png',\n",
              " 'seg_016_2_msk_005.png',\n",
              " 'seg_016_2_msk_006.png',\n",
              " 'seg_016_2_msk_007.png',\n",
              " 'seg_016_2_msk_008.png',\n",
              " 'seg_016_2_msk_009.png',\n",
              " 'seg_016_2_msk_010.png']"
            ]
          },
          "metadata": {},
          "execution_count": 13
        }
      ]
    },
    {
      "cell_type": "code",
      "source": [
        "import matplotlib.pyplot as plt\n",
        "from PIL import Image\n",
        "import numpy as np\n",
        "\n",
        "img_obj = Image.open(file_list[0])\n",
        "np_arr = np.array(img_obj, dtype='uint8')\n",
        "plt.imshow(np_arr, cmap='gray')\n",
        "plt.show()"
      ],
      "metadata": {
        "colab": {
          "base_uri": "https://localhost:8080/",
          "height": 269
        },
        "id": "MhyasMDvdnag",
        "outputId": "ffa08f25-dc69-448e-8da0-c701650d6e9a"
      },
      "execution_count": null,
      "outputs": [
        {
          "output_type": "display_data",
          "data": {
            "image/png": "[encoded data removed]",
            "text/plain": [
              "<Figure size 432x288 with 1 Axes>"
            ]
          },
          "metadata": {
            "needs_background": "light"
          }
        }
      ]
    },
    {
      "cell_type": "code",
      "source": [
        ""
      ],
      "metadata": {
        "id": "myZlLjC4eImc"
      },
      "execution_count": null,
      "outputs": []
    }
  ],
  "metadata": {
    "colab": {
      "name": "temp.ipynb",
      "provenance": [],
      "mount_file_id": "1RPuAdC9F09Sdzxypbtu-RpAfu9opeSjP",
      "authorship_tag": "ABX9TyN3CHN0i7r3M8c6j7r0TDBb",
      "include_colab_link": true
    },
    "kernelspec": {
      "display_name": "Python 3",
      "name": "python3"
    },
    "language_info": {
      "name": "python"
    }
  },
  "nbformat": 4,
  "nbformat_minor": 0
}