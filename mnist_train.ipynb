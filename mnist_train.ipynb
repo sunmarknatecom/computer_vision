{
  "nbformat": 4,
  "nbformat_minor": 0,
  "metadata": {
    "colab": {
      "name": "mnist_train",
      "provenance": [],
      "collapsed_sections": [],
      "include_colab_link": true
    },
    "kernelspec": {
      "name": "python3",
      "display_name": "Python 3"
    },
    "accelerator": "GPU"
  },
  "cells": [
    {
      "cell_type": "markdown",
      "metadata": {
        "id": "view-in-github",
        "colab_type": "text"
      },
      "source": [
        "<a href=\"https://colab.research.google.com/github/sunmarknatecom/computer_vision/blob/master/mnist_train.ipynb\" target=\"_parent\"><img src=\"https://colab.research.google.com/assets/colab-badge.svg\" alt=\"Open In Colab\"/></a>"
      ]
    },
    {
      "cell_type": "code",
      "metadata": {
        "id": "QD5wjMbKUnKw",
        "colab_type": "code",
        "outputId": "b7d5557f-f2e3-46a4-8550-330bafe71cd6",
        "colab": {
          "base_uri": "https://localhost:8080/",
          "height": 97
        }
      },
      "source": [
        "from tensorflow.keras.datasets import mnist\n",
        "from tensorflow.keras.utils import to_categorical\n",
        "import numpy as np\n",
        "import pandas as pd\n",
        "\n",
        "(X_train, Y_train), (X_test, Y_test) = mnist.load_data()\n",
        "\n",
        "X_train_reshape = X_train.reshape(-1, 28, 28, 1)\n",
        "X_test_reshape = X_test.reshape(-1, 28, 28, 1)\n",
        "Y_train_reshape = to_categorical(Y_train)\n",
        "Y_test_reshape = to_categorical(Y_test)\n",
        "\n",
        "Y_train_reshape = Y_train_reshape.astype('uint8')\n",
        "Y_test_reshape = Y_test_reshape.astype('uint8')"
      ],
      "execution_count": 1,
      "outputs": [
        {
          "output_type": "display_data",
          "data": {
            "text/html": [
              "<p style=\"color: red;\">\n",
              "The default version of TensorFlow in Colab will soon switch to TensorFlow 2.x.<br>\n",
              "We recommend you <a href=\"https://www.tensorflow.org/guide/migrate\" target=\"_blank\">upgrade</a> now \n",
              "or ensure your notebook will continue to use TensorFlow 1.x via the <code>%tensorflow_version 1.x</code> magic:\n",
              "<a href=\"https://colab.research.google.com/notebooks/tensorflow_version.ipynb\" target=\"_blank\">more info</a>.</p>\n"
            ],
            "text/plain": [
              "<IPython.core.display.HTML object>"
            ]
          },
          "metadata": {
            "tags": []
          }
        },
        {
          "output_type": "stream",
          "text": [
            "Downloading data from https://storage.googleapis.com/tensorflow/tf-keras-datasets/mnist.npz\n",
            "11493376/11490434 [==============================] - 0s 0us/step\n"
          ],
          "name": "stdout"
        }
      ]
    },
    {
      "cell_type": "code",
      "metadata": {
        "id": "h4iQtnjiWcfY",
        "colab_type": "code",
        "colab": {}
      },
      "source": [
        "X_train = X_train_reshape[:50000,:]\n",
        "X_val = X_train_reshape[50000:,:]\n",
        "Y_train = Y_train_reshape[:50000,:]\n",
        "Y_val = Y_train_reshape[50000:,:]"
      ],
      "execution_count": 0,
      "outputs": []
    },
    {
      "cell_type": "code",
      "metadata": {
        "id": "HwLq1e7YWrEm",
        "colab_type": "code",
        "colab": {}
      },
      "source": [
        "mean_val = np.mean(X_train, axis=0)\n",
        "std_val = np.std(X_train)\n",
        "\n",
        "X_train_normal = (X_train - mean_val)/std_val\n",
        "X_val_normal = (X_val - mean_val)/std_val\n",
        "X_test_normal = (X_test_reshape - mean_val)/std_val"
      ],
      "execution_count": 0,
      "outputs": []
    },
    {
      "cell_type": "code",
      "metadata": {
        "id": "NmZKwtOMWux5",
        "colab_type": "code",
        "colab": {}
      },
      "source": [
        "from tensorflow.keras.models import Sequential\n",
        "from tensorflow.keras.layers import Conv2D, MaxPooling2D, Dense, Flatten, Dropout\n",
        "from tensorflow.keras.callbacks import ModelCheckpoint, TensorBoard\n",
        "import time"
      ],
      "execution_count": 0,
      "outputs": []
    },
    {
      "cell_type": "code",
      "metadata": {
        "id": "i5j3_fLhW_Eg",
        "colab_type": "code",
        "colab": {
          "base_uri": "https://localhost:8080/",
          "height": 88
        },
        "outputId": "be031443-12ad-4ce3-d992-4fef12752e8b"
      },
      "source": [
        "model = Sequential()\n",
        "model.add(Conv2D(32, (5,5), padding='valid', activation='relu', input_shape=(28,28,1)))\n",
        "model.add(MaxPooling2D((2,2)))\n",
        "model.add(Conv2D(64, (5,5), padding='valid', activation='relu'))\n",
        "model.add(MaxPooling2D((2,2)))\n",
        "model.add(Flatten())\n",
        "model.add(Dense(1024, activation='relu'))\n",
        "model.add(Dropout(0.5))\n",
        "model.add(Dense(10, activation='softmax'))"
      ],
      "execution_count": 6,
      "outputs": [
        {
          "output_type": "stream",
          "text": [
            "WARNING:tensorflow:From /usr/local/lib/python3.6/dist-packages/tensorflow_core/python/ops/resource_variable_ops.py:1630: calling BaseResourceVariable.__init__ (from tensorflow.python.ops.resource_variable_ops) with constraint is deprecated and will be removed in a future version.\n",
            "Instructions for updating:\n",
            "If using Keras pass *_constraint arguments to layers.\n"
          ],
          "name": "stdout"
        }
      ]
    },
    {
      "cell_type": "code",
      "metadata": {
        "id": "epAglDy9XAdX",
        "colab_type": "code",
        "outputId": "3a3a26e7-c973-4362-928e-d0a45f54276c",
        "colab": {
          "base_uri": "https://localhost:8080/",
          "height": 425
        }
      },
      "source": [
        "model.summary()"
      ],
      "execution_count": 7,
      "outputs": [
        {
          "output_type": "stream",
          "text": [
            "Model: \"sequential\"\n",
            "_________________________________________________________________\n",
            "Layer (type)                 Output Shape              Param #   \n",
            "=================================================================\n",
            "conv2d (Conv2D)              (None, 24, 24, 32)        832       \n",
            "_________________________________________________________________\n",
            "max_pooling2d (MaxPooling2D) (None, 12, 12, 32)        0         \n",
            "_________________________________________________________________\n",
            "conv2d_1 (Conv2D)            (None, 8, 8, 64)          51264     \n",
            "_________________________________________________________________\n",
            "max_pooling2d_1 (MaxPooling2 (None, 4, 4, 64)          0         \n",
            "_________________________________________________________________\n",
            "flatten (Flatten)            (None, 1024)              0         \n",
            "_________________________________________________________________\n",
            "dense (Dense)                (None, 1024)              1049600   \n",
            "_________________________________________________________________\n",
            "dropout (Dropout)            (None, 1024)              0         \n",
            "_________________________________________________________________\n",
            "dense_1 (Dense)              (None, 10)                10250     \n",
            "=================================================================\n",
            "Total params: 1,111,946\n",
            "Trainable params: 1,111,946\n",
            "Non-trainable params: 0\n",
            "_________________________________________________________________\n"
          ],
          "name": "stdout"
        }
      ]
    },
    {
      "cell_type": "code",
      "metadata": {
        "id": "auTQsiUoXB13",
        "colab_type": "code",
        "colab": {}
      },
      "source": [
        "model.compile(loss='categorical_crossentropy', optimizer='adam', metrics=['accuracy'])"
      ],
      "execution_count": 0,
      "outputs": []
    },
    {
      "cell_type": "code",
      "metadata": {
        "id": "R9huSiO0XDHl",
        "colab_type": "code",
        "colab": {}
      },
      "source": [
        "callback_list = [ModelCheckpoint(filepath='cnn_checkpoint.h5', monitor='val_loss', save_best_only=True), TensorBoard(log_dir='log/{}'.format(time.asctime()))]"
      ],
      "execution_count": 0,
      "outputs": []
    },
    {
      "cell_type": "code",
      "metadata": {
        "id": "VgKCadrvXEoe",
        "colab_type": "code",
        "colab": {
          "base_uri": "https://localhost:8080/",
          "height": 734
        },
        "outputId": "e639308f-5646-4468-a84b-8aab161e22ee"
      },
      "source": [
        "history = model.fit(X_train_normal, Y_train, batch_size=64, epochs=20, validation_data=(X_val_normal, Y_val), callbacks=callback_list)"
      ],
      "execution_count": 10,
      "outputs": [
        {
          "output_type": "stream",
          "text": [
            "Train on 50000 samples, validate on 10000 samples\n",
            "Epoch 1/20\n",
            "50000/50000 [==============================] - 10s 207us/sample - loss: 0.1382 - acc: 0.9571 - val_loss: 0.0745 - val_acc: 0.9795\n",
            "Epoch 2/20\n",
            "50000/50000 [==============================] - 3s 67us/sample - loss: 0.0504 - acc: 0.9843 - val_loss: 0.0379 - val_acc: 0.9890\n",
            "Epoch 3/20\n",
            "50000/50000 [==============================] - 3s 66us/sample - loss: 0.0361 - acc: 0.9891 - val_loss: 0.0335 - val_acc: 0.9908\n",
            "Epoch 4/20\n",
            "50000/50000 [==============================] - 3s 63us/sample - loss: 0.0277 - acc: 0.9911 - val_loss: 0.0306 - val_acc: 0.9918\n",
            "Epoch 5/20\n",
            "50000/50000 [==============================] - 3s 66us/sample - loss: 0.0239 - acc: 0.9923 - val_loss: 0.0414 - val_acc: 0.9897\n",
            "Epoch 6/20\n",
            "50000/50000 [==============================] - 3s 66us/sample - loss: 0.0215 - acc: 0.9930 - val_loss: 0.0353 - val_acc: 0.9909\n",
            "Epoch 7/20\n",
            "50000/50000 [==============================] - 3s 65us/sample - loss: 0.0180 - acc: 0.9944 - val_loss: 0.0353 - val_acc: 0.9923\n",
            "Epoch 8/20\n",
            "50000/50000 [==============================] - 3s 63us/sample - loss: 0.0150 - acc: 0.9952 - val_loss: 0.0465 - val_acc: 0.9897\n",
            "Epoch 9/20\n",
            "50000/50000 [==============================] - 3s 63us/sample - loss: 0.0154 - acc: 0.9955 - val_loss: 0.0424 - val_acc: 0.9904\n",
            "Epoch 10/20\n",
            "50000/50000 [==============================] - 3s 64us/sample - loss: 0.0154 - acc: 0.9953 - val_loss: 0.0493 - val_acc: 0.9889\n",
            "Epoch 11/20\n",
            "50000/50000 [==============================] - 3s 65us/sample - loss: 0.0127 - acc: 0.9963 - val_loss: 0.0496 - val_acc: 0.9910\n",
            "Epoch 12/20\n",
            "50000/50000 [==============================] - 3s 64us/sample - loss: 0.0136 - acc: 0.9958 - val_loss: 0.0437 - val_acc: 0.9911\n",
            "Epoch 13/20\n",
            "50000/50000 [==============================] - 3s 65us/sample - loss: 0.0110 - acc: 0.9967 - val_loss: 0.0598 - val_acc: 0.9909\n",
            "Epoch 14/20\n",
            "50000/50000 [==============================] - 3s 64us/sample - loss: 0.0108 - acc: 0.9969 - val_loss: 0.0580 - val_acc: 0.9917\n",
            "Epoch 15/20\n",
            "50000/50000 [==============================] - 3s 64us/sample - loss: 0.0122 - acc: 0.9963 - val_loss: 0.0521 - val_acc: 0.9918\n",
            "Epoch 16/20\n",
            "50000/50000 [==============================] - 3s 62us/sample - loss: 0.0125 - acc: 0.9962 - val_loss: 0.0554 - val_acc: 0.9912\n",
            "Epoch 17/20\n",
            "50000/50000 [==============================] - 3s 62us/sample - loss: 0.0094 - acc: 0.9972 - val_loss: 0.0520 - val_acc: 0.9912\n",
            "Epoch 18/20\n",
            "50000/50000 [==============================] - 3s 62us/sample - loss: 0.0092 - acc: 0.9975 - val_loss: 0.0582 - val_acc: 0.9911\n",
            "Epoch 19/20\n",
            "50000/50000 [==============================] - 3s 62us/sample - loss: 0.0084 - acc: 0.9976 - val_loss: 0.0624 - val_acc: 0.9910\n",
            "Epoch 20/20\n",
            "50000/50000 [==============================] - 3s 64us/sample - loss: 0.0099 - acc: 0.9975 - val_loss: 0.0547 - val_acc: 0.9923\n"
          ],
          "name": "stdout"
        }
      ]
    },
    {
      "cell_type": "code",
      "metadata": {
        "id": "4aUyZdc7XGX4",
        "colab_type": "code",
        "colab": {
          "base_uri": "https://localhost:8080/",
          "height": 279
        },
        "outputId": "60e375fe-b635-43ea-aa32-bdd5bada490f"
      },
      "source": [
        "import matplotlib.pyplot as plt\n",
        "epochs = np.arange(1,21)\n",
        "plt.plot(epochs, history.history['loss'])\n",
        "plt.plot(epochs, history.history['val_loss'])\n",
        "plt.xlabel('epochs')\n",
        "plt.ylabel('loss')\n",
        "plt.show()"
      ],
      "execution_count": 11,
      "outputs": [
        {
          "output_type": "display_data",
          "data": {
            "image/png": "[encoded data removed]",
            "text/plain": [
              "<Figure size 432x288 with 1 Axes>"
            ]
          },
          "metadata": {
            "tags": []
          }
        }
      ]
    }
  ]
}